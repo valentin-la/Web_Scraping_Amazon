{
 "cells": [
  {
   "cell_type": "code",
   "execution_count": 21,
   "id": "0a200560",
   "metadata": {},
   "outputs": [],
   "source": [
    "# Import libraries\n",
    "from bs4 import BeautifulSoup\n",
    "import requests\n",
    "import pandas as pd\n",
    "import csv\n",
    "import datetime\n",
    "import time\n",
    "import smtplib\n",
    "import os"
   ]
  },
  {
   "cell_type": "code",
   "execution_count": 31,
   "id": "6875b9a5",
   "metadata": {},
   "outputs": [],
   "source": [
    "# Connect and pull data from Amazon\n",
    "URL = 'https://www.amazon.de/Steve-Jobs-Walter-Isaacson/dp/1451648537'\n",
    "HEADERS = {\"User-Agent\": \"Mozilla/5.0 (Windows NT 10.0; Win64; x64) AppleWebKit/537.36 (KHTML, like Gecko) Chrome/107.0.0.0 Safari/537.36\"}\n",
    "page = requests.get(URL, headers=HEADERS)\n",
    "soup1 = BeautifulSoup(page.content, \"html.parser\")"
   ]
  },
  {
   "cell_type": "code",
   "execution_count": 23,
   "id": "3a03b021",
   "metadata": {},
   "outputs": [
    {
     "data": {
      "text/plain": [
       "'Steve Jobs: A Biography'"
      ]
     },
     "execution_count": 23,
     "metadata": {},
     "output_type": "execute_result"
    }
   ],
   "source": [
    "# Check and clean up data\n",
    "title = soup1.find(id='productTitle').get_text().strip()\n",
    "title"
   ]
  },
  {
   "cell_type": "code",
   "execution_count": 24,
   "id": "25427abd",
   "metadata": {},
   "outputs": [
    {
     "data": {
      "text/plain": [
       "25.99"
      ]
     },
     "execution_count": 24,
     "metadata": {},
     "output_type": "execute_result"
    }
   ],
   "source": [
    "# Check and clean up data\n",
    "price = soup1.find(class_='a-size-base a-color-price a-color-price').get_text().strip()[0:5]\n",
    "price = price.replace(',', '.') \n",
    "price = float(price)\n",
    "price"
   ]
  },
  {
   "cell_type": "code",
   "execution_count": 25,
   "id": "4e238b6d",
   "metadata": {},
   "outputs": [
    {
     "data": {
      "text/plain": [
       "'15/11/2022 17:02:19'"
      ]
     },
     "execution_count": 25,
     "metadata": {},
     "output_type": "execute_result"
    }
   ],
   "source": [
    "# Create a Timestamp, to track the collected data\n",
    "dtime = datetime.datetime.now().strftime(\"%d/%m/%Y %H:%M:%S\")\n",
    "dtime"
   ]
  },
  {
   "cell_type": "code",
   "execution_count": 26,
   "id": "7dd22e3e",
   "metadata": {},
   "outputs": [],
   "source": [
    "# Create a CSV file and appending data to it\n",
    "header = ['Title', 'Price', 'Datetime']\n",
    "data = [title, price, dtime]\n",
    "\n",
    "with open('Web_Scraping_Project_Amazon_Dataset.csv', 'a+', newline = '', encoding='UTF-8') as f:\n",
    "    writer = csv.writer(f)\n",
    "    writer.writerow(header)\n",
    "    writer.writerow(data)"
   ]
  },
  {
   "cell_type": "code",
   "execution_count": 27,
   "id": "e36c69bc",
   "metadata": {},
   "outputs": [
    {
     "data": {
      "text/html": [
       "<div>\n",
       "<style scoped>\n",
       "    .dataframe tbody tr th:only-of-type {\n",
       "        vertical-align: middle;\n",
       "    }\n",
       "\n",
       "    .dataframe tbody tr th {\n",
       "        vertical-align: top;\n",
       "    }\n",
       "\n",
       "    .dataframe thead th {\n",
       "        text-align: right;\n",
       "    }\n",
       "</style>\n",
       "<table border=\"1\" class=\"dataframe\">\n",
       "  <thead>\n",
       "    <tr style=\"text-align: right;\">\n",
       "      <th></th>\n",
       "      <th>Title</th>\n",
       "      <th>Price</th>\n",
       "      <th>Datetime</th>\n",
       "    </tr>\n",
       "  </thead>\n",
       "  <tbody>\n",
       "    <tr>\n",
       "      <th>0</th>\n",
       "      <td>Steve Jobs: A Biography</td>\n",
       "      <td>25.99</td>\n",
       "      <td>15/11/2022 17:02:19</td>\n",
       "    </tr>\n",
       "  </tbody>\n",
       "</table>\n",
       "</div>"
      ],
      "text/plain": [
       "                     Title  Price             Datetime\n",
       "0  Steve Jobs: A Biography  25.99  15/11/2022 17:02:19"
      ]
     },
     "execution_count": 27,
     "metadata": {},
     "output_type": "execute_result"
    }
   ],
   "source": [
    "# Check the CSV File\n",
    "df = pd.read_csv('Web_Scraping_Project_Amazon_Dataset.csv')\n",
    "df"
   ]
  },
  {
   "cell_type": "code",
   "execution_count": 28,
   "id": "34351ae4",
   "metadata": {},
   "outputs": [],
   "source": [
    "# Create a function with the steps above for iteration purposes\n",
    "def auto_csv():\n",
    "    URL = 'https://www.amazon.de/Steve-Jobs-Walter-Isaacson/dp/1451648537'\n",
    "    HEADERS = {\"User-Agent\": \"Mozilla/5.0 (Windows NT 10.0; Win64; x64) AppleWebKit/537.36 (KHTML, like Gecko) Chrome/107.0.0.0 Safari/537.36\"}\n",
    "    \n",
    "    page = requests.get(URL, headers=HEADERS)\n",
    "    \n",
    "    soup1 = BeautifulSoup(page.content, \"html.parser\")\n",
    "    \n",
    "    title = soup1.find(id='productTitle').get_text().strip()\n",
    "    \n",
    "    price = soup1.find(class_='a-size-base a-color-price a-color-price').get_text().strip()[0:5]\n",
    "    \n",
    "    dtime = datetime.datetime.now().strftime(\"%d/%m/%Y %H:%M:%S\")\n",
    "    \n",
    "    header = ['Title', 'Price', 'Datetime']\n",
    "    data = [title, price, dtime]\n",
    "\n",
    "    with open('Web_Scraping_Project_Amazon_Dataset.csv', 'a+', newline = '', encoding='UTF-8') as f:\n",
    "        writer = csv.writer(f)\n",
    "        writer.writerow(data)"
   ]
  },
  {
   "cell_type": "code",
   "execution_count": 29,
   "id": "9c3b0981",
   "metadata": {},
   "outputs": [],
   "source": [
    "# Create a function for sending an email when desired events occur\n",
    "def auto_mail():\n",
    "    gmail_user = os.environ.get('GMAIL_USER')\n",
    "    gmail_password = os.environ.get('GMAIL_PASSWORD')\n",
    "\n",
    "    sent_from = gmail_user\n",
    "    to = [os.environ.get('RECIPIENTS_EMAIL')]\n",
    "    subject = 'Purchase Note'\n",
    "    body = f'{title} is available at a low price of {price}: \\n{URL}'\n",
    "    email_text = \"\"\"\\\n",
    "    From: %s\n",
    "    To: %s\n",
    "    Subject: %s\n",
    "\n",
    "    %s\n",
    "    \"\"\" % (sent_from, \", \".join(to), subject, body)\n",
    "\n",
    "    try:\n",
    "        smtp_server = smtplib.SMTP_SSL('smtp.gmail.com', 465)\n",
    "        smtp_server.ehlo()\n",
    "        smtp_server.login(gmail_user, gmail_password)\n",
    "        smtp_server.sendmail(sent_from, to, email_text)\n",
    "        smtp_server.close()\n",
    "        print (\"Email sent successfully!\")\n",
    "    except Exception as ex:\n",
    "        print (\"Something went wrong!\",ex)"
   ]
  },
  {
   "cell_type": "code",
   "execution_count": 30,
   "id": "1d84b2f9",
   "metadata": {
    "scrolled": true
   },
   "outputs": [
    {
     "name": "stdout",
     "output_type": "stream",
     "text": [
      "Email sent successfully!\n",
      "Email sent successfully!\n",
      "Email sent successfully!\n",
      "Email sent successfully!\n",
      "Email sent successfully!\n"
     ]
    },
    {
     "ename": "KeyboardInterrupt",
     "evalue": "",
     "output_type": "error",
     "traceback": [
      "\u001b[1;31m---------------------------------------------------------------------------\u001b[0m",
      "\u001b[1;31mKeyboardInterrupt\u001b[0m                         Traceback (most recent call last)",
      "\u001b[1;32m~\\AppData\\Local\\Temp\\ipykernel_5412\\1880691138.py\u001b[0m in \u001b[0;36m<module>\u001b[1;34m\u001b[0m\n\u001b[0;32m      7\u001b[0m         \u001b[0mauto_mail\u001b[0m\u001b[1;33m(\u001b[0m\u001b[1;33m)\u001b[0m\u001b[1;33m\u001b[0m\u001b[1;33m\u001b[0m\u001b[0m\n\u001b[0;32m      8\u001b[0m \u001b[1;33m\u001b[0m\u001b[0m\n\u001b[1;32m----> 9\u001b[1;33m     \u001b[0mtime\u001b[0m\u001b[1;33m.\u001b[0m\u001b[0msleep\u001b[0m\u001b[1;33m(\u001b[0m\u001b[1;36m5\u001b[0m\u001b[1;33m)\u001b[0m\u001b[1;33m\u001b[0m\u001b[1;33m\u001b[0m\u001b[0m\n\u001b[0m",
      "\u001b[1;31mKeyboardInterrupt\u001b[0m: "
     ]
    }
   ],
   "source": [
    "# Repeating the code every hour\n",
    "while(True):\n",
    "    auto_csv()\n",
    "    \n",
    "    # Set a condition for sending emails\n",
    "    if price < 30.00:\n",
    "        auto_mail()\n",
    "    \n",
    "    time.sleep(5)"
   ]
  },
  {
   "cell_type": "code",
   "execution_count": null,
   "id": "ab98f206",
   "metadata": {},
   "outputs": [],
   "source": []
  }
 ],
 "metadata": {
  "kernelspec": {
   "display_name": "Python 3 (ipykernel)",
   "language": "python",
   "name": "python3"
  },
  "language_info": {
   "codemirror_mode": {
    "name": "ipython",
    "version": 3
   },
   "file_extension": ".py",
   "mimetype": "text/x-python",
   "name": "python",
   "nbconvert_exporter": "python",
   "pygments_lexer": "ipython3",
   "version": "3.9.13"
  }
 },
 "nbformat": 4,
 "nbformat_minor": 5
}
